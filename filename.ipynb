{
 "cells": [
  {
   "cell_type": "code",
   "execution_count": 36,
   "id": "a99f2366",
   "metadata": {},
   "outputs": [
    {
     "data": {
      "text/plain": [
       "14078"
      ]
     },
     "execution_count": 36,
     "metadata": {},
     "output_type": "execute_result"
    }
   ],
   "source": [
    "#test file\n",
    "from glob import glob\n",
    "\n",
    "img_list1 = glob(\"C:/scr/darknet/car/val/image/*.png\")\n",
    "img_list2 = glob(\"C:/scr/darknet/car/training/image/*.png\")\n",
    "img_list = img_list1 + img_list2\n",
    "\n",
    "\n",
    "len(img_list)"
   ]
  },
  {
   "cell_type": "code",
   "execution_count": 4,
   "id": "8a8cecf2",
   "metadata": {},
   "outputs": [
    {
     "data": {
      "text/plain": [
       "51048"
      ]
     },
     "execution_count": 4,
     "metadata": {},
     "output_type": "execute_result"
    }
   ],
   "source": [
    "#train file\n",
    "from glob import glob\n",
    "\n",
    "img_list1 = glob('C:/scr/darknet/build/darknet/x64/data/ocr_data/*.jpg')\n",
    "img_list2 = glob('C:/scr/darknet/build/darknet/x64/data/ocr_data/*.png')\n",
    "img_list = img_list1 + img_list2\n",
    "\n",
    "\n",
    "len(img_list)"
   ]
  },
  {
   "cell_type": "code",
   "execution_count": 5,
   "id": "af1c8761",
   "metadata": {},
   "outputs": [
    {
     "name": "stdout",
     "output_type": "stream",
     "text": [
      "40838 10210\n"
     ]
    }
   ],
   "source": [
    "#데이터 분할\n",
    "from sklearn.model_selection import train_test_split\n",
    "\n",
    "train_img_list, test_img_list = train_test_split(img_list, test_size=0.2, random_state=42) # random_state는 임의로 선택\n",
    "\n",
    "print(len(train_img_list), len(test_img_list))"
   ]
  },
  {
   "cell_type": "code",
   "execution_count": 6,
   "id": "006c89c3",
   "metadata": {},
   "outputs": [],
   "source": [
    "with open('C:/scr/darknet/build/darknet/x64/data/train.txt', 'w') as f:\n",
    "    f.write('\\n'.join(train_img_list) + '\\n')\n",
    "    \n",
    "with open('C:/scr/darknet/build/darknet/x64/data/test.txt', 'w') as f:\n",
    "    f.write('\\n'.join(test_img_list) + '\\n')"
   ]
  },
  {
   "cell_type": "code",
   "execution_count": 37,
   "id": "4189d864",
   "metadata": {},
   "outputs": [],
   "source": [
    "with open('C:/scr/darknet/data/list/test3.txt', 'w') as f:\n",
    "    f.write('\\n'.join(img_list) + '\\n')"
   ]
  },
  {
   "cell_type": "code",
   "execution_count": null,
   "id": "753cd627",
   "metadata": {},
   "outputs": [],
   "source": []
  }
 ],
 "metadata": {
  "kernelspec": {
   "display_name": "Python 3 (ipykernel)",
   "language": "python",
   "name": "python3"
  },
  "language_info": {
   "codemirror_mode": {
    "name": "ipython",
    "version": 3
   },
   "file_extension": ".py",
   "mimetype": "text/x-python",
   "name": "python",
   "nbconvert_exporter": "python",
   "pygments_lexer": "ipython3",
   "version": "3.10.9"
  }
 },
 "nbformat": 4,
 "nbformat_minor": 5
}
