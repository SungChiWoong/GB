{
 "cells": [
  {
   "cell_type": "code",
   "execution_count": 4,
   "id": "0c1e96bd",
   "metadata": {},
   "outputs": [
    {
     "name": "stdout",
     "output_type": "stream",
     "text": [
      "OpenCV version: 4.7.0\n",
      "net.optimized_memory = 0 \n",
      "mini_batch = 1, batch = 16, time_steps = 1, train = 0 \n",
      "Create CUDA-stream - 0 \n",
      " Create cudnn-handle 0 \n",
      "nms_kind: greedynms (1), beta = 0.600000 \n",
      "nms_kind: greedynms (1), beta = 0.600000 \n",
      "Total BFLOPS 2.625 \n",
      "avg_outputs = 118130 \n",
      "Allocating workspace to transfer between CPU and GPU:  128.0 MiB\n",
      "\n",
      " seen 64, trained: 5120 K-images (80 Kilo-batches_64) \n",
      "Enter Image Path: Detection layer #30 is type 28 (yolo)\n",
      "Detection layer #37 is type 28 (yolo)\n",
      "C:/scr/darknet/test_dataset_yhg\\testdata_0.png: Predicted in 2.618000 milli-seconds.\n",
      "8: 98%\n",
      "1: 99%\n",
      "怨�: 94%\n",
      "2: 98%\n",
      "1: 96%\n",
      "1: 91%\n",
      "6: 90%\n"
     ]
    },
    {
     "name": "stderr",
     "output_type": "stream",
     "text": [
      " CUDA-version: 11070 (12020), cuDNN: 8.9.2, GPU count: 1  \n",
      " 0 : compute_capability = 860, cudnn_half = 0, GPU: NVIDIA GeForce RTX 3060 \n",
      "   layer   filters  size/strd(dil)      input                output\n",
      "   0 conv     32       3 x 3/ 2    256 x 256 x   3 ->  128 x 128 x  32 0.028 BF\n",
      "   1 conv     64       3 x 3/ 2    128 x 128 x  32 ->   64 x  64 x  64 0.151 BF\n",
      "   2 conv     64       3 x 3/ 1     64 x  64 x  64 ->   64 x  64 x  64 0.302 BF\n",
      "   3 route  2 \t\t                       1/2 ->   64 x  64 x  32 \n",
      "   4 conv     32       3 x 3/ 1     64 x  64 x  32 ->   64 x  64 x  32 0.075 BF\n",
      "   5 conv     32       3 x 3/ 1     64 x  64 x  32 ->   64 x  64 x  32 0.075 BF\n",
      "   6 route  5 4 \t                           ->   64 x  64 x  64 \n",
      "   7 conv     64       1 x 1/ 1     64 x  64 x  64 ->   64 x  64 x  64 0.034 BF\n",
      "   8 route  2 7 \t                           ->   64 x  64 x 128 \n",
      "   9 max                2x 2/ 2     64 x  64 x 128 ->   32 x  32 x 128 0.001 BF\n",
      "  10 conv    128       3 x 3/ 1     32 x  32 x 128 ->   32 x  32 x 128 0.302 BF\n",
      "  11 route  10 \t\t                       1/2 ->   32 x  32 x  64 \n",
      "  12 conv     64       3 x 3/ 1     32 x  32 x  64 ->   32 x  32 x  64 0.075 BF\n",
      "  13 conv     64       3 x 3/ 1     32 x  32 x  64 ->   32 x  32 x  64 0.075 BF\n",
      "  14 route  13 12 \t                           ->   32 x  32 x 128 \n",
      "  15 conv    128       1 x 1/ 1     32 x  32 x 128 ->   32 x  32 x 128 0.034 BF\n",
      "  16 route  10 15 \t                           ->   32 x  32 x 256 \n",
      "  17 max                2x 2/ 2     32 x  32 x 256 ->   16 x  16 x 256 0.000 BF\n",
      "  18 conv    256       3 x 3/ 1     16 x  16 x 256 ->   16 x  16 x 256 0.302 BF\n",
      "  19 route  18 \t\t                       1/2 ->   16 x  16 x 128 \n",
      "  20 conv    128       3 x 3/ 1     16 x  16 x 128 ->   16 x  16 x 128 0.075 BF\n",
      "  21 conv    128       3 x 3/ 1     16 x  16 x 128 ->   16 x  16 x 128 0.075 BF\n",
      "  22 route  21 20 \t                           ->   16 x  16 x 256 \n",
      "  23 conv    256       1 x 1/ 1     16 x  16 x 256 ->   16 x  16 x 256 0.034 BF\n",
      "  24 route  18 23 \t                           ->   16 x  16 x 512 \n",
      "  25 max                2x 2/ 2     16 x  16 x 512 ->    8 x   8 x 512 0.000 BF\n",
      "  26 conv    512       3 x 3/ 1      8 x   8 x 512 ->    8 x   8 x 512 0.302 BF\n",
      "  27 conv    256       1 x 1/ 1      8 x   8 x 512 ->    8 x   8 x 256 0.017 BF\n",
      "  28 conv    512       3 x 3/ 1      8 x   8 x 256 ->    8 x   8 x 512 0.151 BF\n",
      "  29 conv    294       1 x 1/ 1      8 x   8 x 512 ->    8 x   8 x 294 0.019 BF\n",
      "  30 yolo\n",
      "[yolo] params: iou loss: ciou (4), iou_norm: 0.07, obj_norm: 1.00, cls_norm: 1.00, delta_norm: 1.00, scale_x_y: 1.05\n",
      "  31 route  27 \t\t                           ->    8 x   8 x 256 \n",
      "  32 conv    128       1 x 1/ 1      8 x   8 x 256 ->    8 x   8 x 128 0.004 BF\n",
      "  33 upsample                 2x     8 x   8 x 128 ->   16 x  16 x 128\n",
      "  34 route  33 23 \t                           ->   16 x  16 x 384 \n",
      "  35 conv    256       3 x 3/ 1     16 x  16 x 384 ->   16 x  16 x 256 0.453 BF\n",
      "  36 conv    294       1 x 1/ 1     16 x  16 x 256 ->   16 x  16 x 294 0.039 BF\n",
      "  37 yolo\n",
      "[yolo] params: iou loss: ciou (4), iou_norm: 0.07, obj_norm: 1.00, cls_norm: 1.00, delta_norm: 1.00, scale_x_y: 1.05\n",
      "Loading weights from C:/scr/darknet/backup/32_conv_256/yolov4-tiny_160000.weights...Done! Loaded 38 layers from weights-file \n",
      "\n",
      "* * * * * * * * * * * * * * * * * * * * * * * * * * * * *\n",
      "* A fatal error has been detected.  Darknet will now exit.\n",
      "* Errno 12: Not enough space\n",
      "* Error location: C:\\scr\\darknet\\src\\image.c, make_image(), line #800\n",
      "* Error message:  failed to calloc 17179869184.0 GiB\n",
      "* * * * * * * * * * * * * * * * * * * * * * * * * * * * *\n"
     ]
    }
   ],
   "source": [
    "!darknet detector test C:/scr/darknet/build/darknet/x64/data/obj.data C:/scr/darknet/cfg/yolov4-tiny.cfg C:/scr/darknet/backup/32_conv_256/yolov4-tiny_160000.weights -thresh 0.25 -dont_show -save_labels < data/list/test4.txt"
   ]
  },
  {
   "cell_type": "code",
   "execution_count": null,
   "id": "0e4277bd",
   "metadata": {},
   "outputs": [],
   "source": []
  }
 ],
 "metadata": {
  "kernelspec": {
   "display_name": "Python 3 (ipykernel)",
   "language": "python",
   "name": "python3"
  },
  "language_info": {
   "codemirror_mode": {
    "name": "ipython",
    "version": 3
   },
   "file_extension": ".py",
   "mimetype": "text/x-python",
   "name": "python",
   "nbconvert_exporter": "python",
   "pygments_lexer": "ipython3",
   "version": "3.10.9"
  }
 },
 "nbformat": 4,
 "nbformat_minor": 5
}
