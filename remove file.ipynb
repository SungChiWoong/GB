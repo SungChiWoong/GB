{
 "cells": [
  {
   "cell_type": "code",
   "execution_count": 10,
   "id": "18a6bd43",
   "metadata": {},
   "outputs": [],
   "source": [
    "import os\n",
    "f = open(\"C:/scr/darknet/build/darknet/x64/data/ocr_train_list.txt\",\"r\")\n",
    "\n",
    "while True:\n",
    "    line = f.readline()\n",
    "    if not line: break\n",
    "    os.remove(line[:-1])\n",
    "    os.remove(line[:-4]+'txt')\n",
    "f.close()"
   ]
  },
  {
   "cell_type": "code",
   "execution_count": null,
   "id": "6ca0c6a8",
   "metadata": {},
   "outputs": [],
   "source": []
  }
 ],
 "metadata": {
  "kernelspec": {
   "display_name": "Python 3 (ipykernel)",
   "language": "python",
   "name": "python3"
  },
  "language_info": {
   "codemirror_mode": {
    "name": "ipython",
    "version": 3
   },
   "file_extension": ".py",
   "mimetype": "text/x-python",
   "name": "python",
   "nbconvert_exporter": "python",
   "pygments_lexer": "ipython3",
   "version": "3.10.9"
  }
 },
 "nbformat": 4,
 "nbformat_minor": 5
}
