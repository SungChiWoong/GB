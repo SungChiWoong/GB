{
 "cells": [
  {
   "cell_type": "code",
   "execution_count": 6,
   "id": "9c2767c9",
   "metadata": {},
   "outputs": [
    {
     "name": "stdout",
     "output_type": "stream",
     "text": [
      "['1', '4', '3', '2']\n"
     ]
    }
   ],
   "source": [
    "import glob\n",
    "\n",
    "list_c = glob.glob(\"C:/Users/user/general_night/*.txt\")\n",
    "list_ch=[]\n",
    "\n",
    "for file in list_c:\n",
    "    with open(file, 'r') as f:\n",
    "        while True:\n",
    "            line=f.readline()\n",
    "            if not line:break\n",
    "            if line[0] not in list_ch:\n",
    "                list_ch.append(line[0])\n",
    "    f.close()\n",
    "    \n",
    "    \n",
    "print(list_ch)\n"
   ]
  },
  {
   "cell_type": "code",
   "execution_count": 17,
   "id": "9556ee64",
   "metadata": {},
   "outputs": [],
   "source": [
    "import glob\n",
    "import os\n",
    "\n",
    "link = \"C:/Users/user/general_sunset/\"\n",
    "\n",
    "list_txt = glob.glob(link + \"*.txt\")\n",
    "list_png = glob.glob(link + \"*.png\")\n",
    "list_txtcp = []\n",
    "list_pngcp=[]\n",
    "\n",
    "for i in range(len(list_txt)):\n",
    "    list_txtcp.append(list_txt[i][:-4])\n",
    "\n",
    "\n",
    "\n",
    "for j in range(len(list_png)):\n",
    "    list_pngcp.append(list_png[j][:-4])\n",
    "\n",
    "for file in list_txt:\n",
    "    if file[:-4] not in list_pngcp:\n",
    "        os.remove(file)\n",
    "\n",
    "for file in list_png:\n",
    "    if file[:-4] not in list_txtcp:\n",
    "        os.remove(file)\n",
    "        \n",
    "\n"
   ]
  },
  {
   "cell_type": "code",
   "execution_count": null,
   "id": "93d398ea",
   "metadata": {},
   "outputs": [],
   "source": []
  }
 ],
 "metadata": {
  "kernelspec": {
   "display_name": "Python 3 (ipykernel)",
   "language": "python",
   "name": "python3"
  },
  "language_info": {
   "codemirror_mode": {
    "name": "ipython",
    "version": 3
   },
   "file_extension": ".py",
   "mimetype": "text/x-python",
   "name": "python",
   "nbconvert_exporter": "python",
   "pygments_lexer": "ipython3",
   "version": "3.10.9"
  }
 },
 "nbformat": 4,
 "nbformat_minor": 5
}
